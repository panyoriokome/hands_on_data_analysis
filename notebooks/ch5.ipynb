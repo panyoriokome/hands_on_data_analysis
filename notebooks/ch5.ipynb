{
 "cells": [
  {
   "cell_type": "code",
   "execution_count": 1,
   "metadata": {},
   "outputs": [],
   "source": [
    "import pandas as pd\n",
    "import numpy as np\n",
    "\n",
    "# 可視化\n",
    "import seaborn as sns\n",
    "from matplotlib import pyplot as plt\n",
    "import matplotlib\n",
    "\n",
    "sns.set(context=\"notebook\",\n",
    "        font=\"Hiragino Maru Gothic Pro\")\n",
    "\n",
    "\n",
    "pd.set_option('display.max_rows', 200)\n",
    "pd.set_option('display.max_columns', 500)\n",
    "\n",
    "def load_excel_file_into_data_frame(sheet, skiprows, cols):\n",
    "    # skiprows:先頭の何行を読み込まないかを指定する引数\n",
    "    # skip_footer:最後の何行を読み込まないか指定する引数\n",
    "    # usecols:読み込む列を指定\n",
    "    df = xls.parse(sheet,\n",
    "                            skiprows = skiprows,\n",
    "                            usecols = cols\n",
    "                  )\n",
    "    # 全ての行がNaNの行を削除\n",
    "    df = df.dropna(how='all')\n",
    "    return df"
   ]
  },
  {
   "cell_type": "markdown",
   "metadata": {},
   "source": [
    "### ワーク5-1 標準偏差と意思決定"
   ]
  },
  {
   "cell_type": "code",
   "execution_count": 2,
   "metadata": {},
   "outputs": [],
   "source": [
    "FILE_NAME = 'ワーク用データ.xlsx'\n",
    "xls = pd.ExcelFile('../data/' + FILE_NAME)\n",
    "df = load_excel_file_into_data_frame('投資判断', skiprows=3, cols='B:D')"
   ]
  },
  {
   "cell_type": "code",
   "execution_count": 3,
   "metadata": {},
   "outputs": [
    {
     "data": {
      "text/html": [
       "<div>\n",
       "<style scoped>\n",
       "    .dataframe tbody tr th:only-of-type {\n",
       "        vertical-align: middle;\n",
       "    }\n",
       "\n",
       "    .dataframe tbody tr th {\n",
       "        vertical-align: top;\n",
       "    }\n",
       "\n",
       "    .dataframe thead th {\n",
       "        text-align: right;\n",
       "    }\n",
       "</style>\n",
       "<table border=\"1\" class=\"dataframe\">\n",
       "  <thead>\n",
       "    <tr style=\"text-align: right;\">\n",
       "      <th></th>\n",
       "      <th>年</th>\n",
       "      <th>株A</th>\n",
       "      <th>株B</th>\n",
       "    </tr>\n",
       "  </thead>\n",
       "  <tbody>\n",
       "    <tr>\n",
       "      <th>0</th>\n",
       "      <td>2003年</td>\n",
       "      <td>0.008535</td>\n",
       "      <td>0.102880</td>\n",
       "    </tr>\n",
       "    <tr>\n",
       "      <th>1</th>\n",
       "      <td>2004年</td>\n",
       "      <td>0.009679</td>\n",
       "      <td>0.226369</td>\n",
       "    </tr>\n",
       "    <tr>\n",
       "      <th>2</th>\n",
       "      <td>2005年</td>\n",
       "      <td>0.004453</td>\n",
       "      <td>-0.135078</td>\n",
       "    </tr>\n",
       "    <tr>\n",
       "      <th>3</th>\n",
       "      <td>2006年</td>\n",
       "      <td>0.002527</td>\n",
       "      <td>0.303082</td>\n",
       "    </tr>\n",
       "    <tr>\n",
       "      <th>4</th>\n",
       "      <td>2007年</td>\n",
       "      <td>0.019436</td>\n",
       "      <td>-0.006103</td>\n",
       "    </tr>\n",
       "  </tbody>\n",
       "</table>\n",
       "</div>"
      ],
      "text/plain": [
       "       年        株A        株B\n",
       "0  2003年  0.008535  0.102880\n",
       "1  2004年  0.009679  0.226369\n",
       "2  2005年  0.004453 -0.135078\n",
       "3  2006年  0.002527  0.303082\n",
       "4  2007年  0.019436 -0.006103"
      ]
     },
     "execution_count": 3,
     "metadata": {},
     "output_type": "execute_result"
    }
   ],
   "source": [
    "df.head()"
   ]
  },
  {
   "cell_type": "code",
   "execution_count": 4,
   "metadata": {},
   "outputs": [
    {
     "name": "stdout",
     "output_type": "stream",
     "text": [
      "株Aのリターン 1.1651318395705523\n"
     ]
    },
    {
     "data": {
      "text/plain": [
       "15.012052293335163"
      ]
     },
     "execution_count": 4,
     "metadata": {},
     "output_type": "execute_result"
    }
   ],
   "source": [
    "print('株Aのリターン', df['株A'].mean() * 100)\n",
    "\n",
    "df['株B'].mean() * 100"
   ]
  },
  {
   "cell_type": "code",
   "execution_count": null,
   "metadata": {},
   "outputs": [],
   "source": []
  },
  {
   "cell_type": "code",
   "execution_count": 5,
   "metadata": {},
   "outputs": [
    {
     "data": {
      "text/plain": [
       "1.016662126500136"
      ]
     },
     "execution_count": 5,
     "metadata": {},
     "output_type": "execute_result"
    }
   ],
   "source": [
    "df['株A'].std() * 100"
   ]
  },
  {
   "cell_type": "code",
   "execution_count": 6,
   "metadata": {},
   "outputs": [
    {
     "data": {
      "text/plain": [
       "17.697323702640567"
      ]
     },
     "execution_count": 6,
     "metadata": {},
     "output_type": "execute_result"
    }
   ],
   "source": [
    "df['株B'].std() * 100"
   ]
  },
  {
   "cell_type": "markdown",
   "metadata": {},
   "source": [
    "### 外れ値を客観的な基準で特定する"
   ]
  },
  {
   "cell_type": "code",
   "execution_count": 7,
   "metadata": {},
   "outputs": [],
   "source": [
    "df = load_excel_file_into_data_frame('店舗業績3', skiprows=3, cols='C:H')"
   ]
  },
  {
   "cell_type": "code",
   "execution_count": 8,
   "metadata": {},
   "outputs": [
    {
     "data": {
      "text/html": [
       "<div>\n",
       "<style scoped>\n",
       "    .dataframe tbody tr th:only-of-type {\n",
       "        vertical-align: middle;\n",
       "    }\n",
       "\n",
       "    .dataframe tbody tr th {\n",
       "        vertical-align: top;\n",
       "    }\n",
       "\n",
       "    .dataframe thead th {\n",
       "        text-align: right;\n",
       "    }\n",
       "</style>\n",
       "<table border=\"1\" class=\"dataframe\">\n",
       "  <thead>\n",
       "    <tr style=\"text-align: right;\">\n",
       "      <th></th>\n",
       "      <th>店舗番号</th>\n",
       "      <th>店舗形態</th>\n",
       "      <th>立地（１：郊外、２：都心）</th>\n",
       "      <th>売り上げ(円/日）</th>\n",
       "      <th>来客数(人/日)</th>\n",
       "      <th>客単価(円/人)</th>\n",
       "    </tr>\n",
       "  </thead>\n",
       "  <tbody>\n",
       "    <tr>\n",
       "      <th>0</th>\n",
       "      <td>1</td>\n",
       "      <td>Ａ</td>\n",
       "      <td>2</td>\n",
       "      <td>91538.461538</td>\n",
       "      <td>145.0</td>\n",
       "      <td>631.299735</td>\n",
       "    </tr>\n",
       "    <tr>\n",
       "      <th>1</th>\n",
       "      <td>2</td>\n",
       "      <td>Ａ</td>\n",
       "      <td>2</td>\n",
       "      <td>93846.153846</td>\n",
       "      <td>141.0</td>\n",
       "      <td>665.575559</td>\n",
       "    </tr>\n",
       "    <tr>\n",
       "      <th>2</th>\n",
       "      <td>3</td>\n",
       "      <td>Ａ</td>\n",
       "      <td>1</td>\n",
       "      <td>79230.769231</td>\n",
       "      <td>134.0</td>\n",
       "      <td>591.274397</td>\n",
       "    </tr>\n",
       "    <tr>\n",
       "      <th>3</th>\n",
       "      <td>4</td>\n",
       "      <td>Ａ</td>\n",
       "      <td>1</td>\n",
       "      <td>73846.153846</td>\n",
       "      <td>132.0</td>\n",
       "      <td>559.440559</td>\n",
       "    </tr>\n",
       "    <tr>\n",
       "      <th>4</th>\n",
       "      <td>5</td>\n",
       "      <td>Ａ</td>\n",
       "      <td>1</td>\n",
       "      <td>118461.538462</td>\n",
       "      <td>87.0</td>\n",
       "      <td>1361.626879</td>\n",
       "    </tr>\n",
       "  </tbody>\n",
       "</table>\n",
       "</div>"
      ],
      "text/plain": [
       "   店舗番号 店舗形態  立地（１：郊外、２：都心）      売り上げ(円/日）  来客数(人/日)     客単価(円/人)\n",
       "0     1    Ａ              2   91538.461538     145.0   631.299735\n",
       "1     2    Ａ              2   93846.153846     141.0   665.575559\n",
       "2     3    Ａ              1   79230.769231     134.0   591.274397\n",
       "3     4    Ａ              1   73846.153846     132.0   559.440559\n",
       "4     5    Ａ              1  118461.538462      87.0  1361.626879"
      ]
     },
     "execution_count": 8,
     "metadata": {},
     "output_type": "execute_result"
    }
   ],
   "source": [
    "df.head()"
   ]
  },
  {
   "cell_type": "code",
   "execution_count": 9,
   "metadata": {},
   "outputs": [
    {
     "data": {
      "text/html": [
       "<div>\n",
       "<style scoped>\n",
       "    .dataframe tbody tr th:only-of-type {\n",
       "        vertical-align: middle;\n",
       "    }\n",
       "\n",
       "    .dataframe tbody tr th {\n",
       "        vertical-align: top;\n",
       "    }\n",
       "\n",
       "    .dataframe thead th {\n",
       "        text-align: right;\n",
       "    }\n",
       "</style>\n",
       "<table border=\"1\" class=\"dataframe\">\n",
       "  <thead>\n",
       "    <tr style=\"text-align: right;\">\n",
       "      <th></th>\n",
       "      <th>店舗番号</th>\n",
       "      <th>立地（１：郊外、２：都心）</th>\n",
       "      <th>売り上げ(円/日）</th>\n",
       "      <th>来客数(人/日)</th>\n",
       "      <th>客単価(円/人)</th>\n",
       "    </tr>\n",
       "  </thead>\n",
       "  <tbody>\n",
       "    <tr>\n",
       "      <th>count</th>\n",
       "      <td>51.000000</td>\n",
       "      <td>51.000000</td>\n",
       "      <td>51.000000</td>\n",
       "      <td>50.000000</td>\n",
       "      <td>50.000000</td>\n",
       "    </tr>\n",
       "    <tr>\n",
       "      <th>mean</th>\n",
       "      <td>26.000000</td>\n",
       "      <td>1.470588</td>\n",
       "      <td>78310.708899</td>\n",
       "      <td>111.520000</td>\n",
       "      <td>876.315627</td>\n",
       "    </tr>\n",
       "    <tr>\n",
       "      <th>std</th>\n",
       "      <td>14.866069</td>\n",
       "      <td>0.504101</td>\n",
       "      <td>37533.107944</td>\n",
       "      <td>27.151307</td>\n",
       "      <td>1434.723804</td>\n",
       "    </tr>\n",
       "    <tr>\n",
       "      <th>min</th>\n",
       "      <td>1.000000</td>\n",
       "      <td>1.000000</td>\n",
       "      <td>12307.692308</td>\n",
       "      <td>30.000000</td>\n",
       "      <td>88.544549</td>\n",
       "    </tr>\n",
       "    <tr>\n",
       "      <th>25%</th>\n",
       "      <td>13.500000</td>\n",
       "      <td>1.000000</td>\n",
       "      <td>67307.692308</td>\n",
       "      <td>90.000000</td>\n",
       "      <td>559.995560</td>\n",
       "    </tr>\n",
       "    <tr>\n",
       "      <th>50%</th>\n",
       "      <td>26.000000</td>\n",
       "      <td>1.000000</td>\n",
       "      <td>73846.153846</td>\n",
       "      <td>100.000000</td>\n",
       "      <td>668.383556</td>\n",
       "    </tr>\n",
       "    <tr>\n",
       "      <th>75%</th>\n",
       "      <td>38.500000</td>\n",
       "      <td>2.000000</td>\n",
       "      <td>79615.384615</td>\n",
       "      <td>138.250000</td>\n",
       "      <td>775.862069</td>\n",
       "    </tr>\n",
       "    <tr>\n",
       "      <th>max</th>\n",
       "      <td>51.000000</td>\n",
       "      <td>2.000000</td>\n",
       "      <td>322307.692308</td>\n",
       "      <td>159.000000</td>\n",
       "      <td>10743.589744</td>\n",
       "    </tr>\n",
       "  </tbody>\n",
       "</table>\n",
       "</div>"
      ],
      "text/plain": [
       "            店舗番号  立地（１：郊外、２：都心）      売り上げ(円/日）    来客数(人/日)      客単価(円/人)\n",
       "count  51.000000      51.000000      51.000000   50.000000     50.000000\n",
       "mean   26.000000       1.470588   78310.708899  111.520000    876.315627\n",
       "std    14.866069       0.504101   37533.107944   27.151307   1434.723804\n",
       "min     1.000000       1.000000   12307.692308   30.000000     88.544549\n",
       "25%    13.500000       1.000000   67307.692308   90.000000    559.995560\n",
       "50%    26.000000       1.000000   73846.153846  100.000000    668.383556\n",
       "75%    38.500000       2.000000   79615.384615  138.250000    775.862069\n",
       "max    51.000000       2.000000  322307.692308  159.000000  10743.589744"
      ]
     },
     "execution_count": 9,
     "metadata": {},
     "output_type": "execute_result"
    }
   ],
   "source": [
    "df.describe()"
   ]
  },
  {
   "cell_type": "code",
   "execution_count": 10,
   "metadata": {},
   "outputs": [
    {
     "data": {
      "text/html": [
       "<div>\n",
       "<style scoped>\n",
       "    .dataframe tbody tr th:only-of-type {\n",
       "        vertical-align: middle;\n",
       "    }\n",
       "\n",
       "    .dataframe tbody tr th {\n",
       "        vertical-align: top;\n",
       "    }\n",
       "\n",
       "    .dataframe thead th {\n",
       "        text-align: right;\n",
       "    }\n",
       "</style>\n",
       "<table border=\"1\" class=\"dataframe\">\n",
       "  <thead>\n",
       "    <tr style=\"text-align: right;\">\n",
       "      <th></th>\n",
       "      <th>店舗番号</th>\n",
       "      <th>店舗形態</th>\n",
       "      <th>立地（１：郊外、２：都心）</th>\n",
       "      <th>売り上げ(円/日）</th>\n",
       "      <th>来客数(人/日)</th>\n",
       "      <th>客単価(円/人)</th>\n",
       "    </tr>\n",
       "  </thead>\n",
       "  <tbody>\n",
       "    <tr>\n",
       "      <th>19</th>\n",
       "      <td>20</td>\n",
       "      <td>Ｂ</td>\n",
       "      <td>1</td>\n",
       "      <td>73846.153846</td>\n",
       "      <td>NaN</td>\n",
       "      <td>NaN</td>\n",
       "    </tr>\n",
       "  </tbody>\n",
       "</table>\n",
       "</div>"
      ],
      "text/plain": [
       "    店舗番号 店舗形態  立地（１：郊外、２：都心）     売り上げ(円/日）  来客数(人/日)  客単価(円/人)\n",
       "19    20    Ｂ              1  73846.153846       NaN       NaN"
      ]
     },
     "execution_count": 10,
     "metadata": {},
     "output_type": "execute_result"
    }
   ],
   "source": [
    "df[df['来客数(人/日)'].isnull()]"
   ]
  },
  {
   "cell_type": "code",
   "execution_count": 11,
   "metadata": {},
   "outputs": [
    {
     "data": {
      "text/html": [
       "<div>\n",
       "<style scoped>\n",
       "    .dataframe tbody tr th:only-of-type {\n",
       "        vertical-align: middle;\n",
       "    }\n",
       "\n",
       "    .dataframe tbody tr th {\n",
       "        vertical-align: top;\n",
       "    }\n",
       "\n",
       "    .dataframe thead th {\n",
       "        text-align: right;\n",
       "    }\n",
       "</style>\n",
       "<table border=\"1\" class=\"dataframe\">\n",
       "  <thead>\n",
       "    <tr style=\"text-align: right;\">\n",
       "      <th></th>\n",
       "      <th>sum</th>\n",
       "      <th>mean</th>\n",
       "      <th>min</th>\n",
       "      <th>max</th>\n",
       "      <th>std</th>\n",
       "    </tr>\n",
       "  </thead>\n",
       "  <tbody>\n",
       "    <tr>\n",
       "      <th>売り上げ(円/日）</th>\n",
       "      <td>3.993846e+06</td>\n",
       "      <td>78310.708899</td>\n",
       "      <td>12307.692308</td>\n",
       "      <td>322307.692308</td>\n",
       "      <td>37533.107944</td>\n",
       "    </tr>\n",
       "    <tr>\n",
       "      <th>来客数(人/日)</th>\n",
       "      <td>5.576000e+03</td>\n",
       "      <td>111.520000</td>\n",
       "      <td>30.000000</td>\n",
       "      <td>159.000000</td>\n",
       "      <td>27.151307</td>\n",
       "    </tr>\n",
       "    <tr>\n",
       "      <th>客単価(円/人)</th>\n",
       "      <td>4.381578e+04</td>\n",
       "      <td>876.315627</td>\n",
       "      <td>88.544549</td>\n",
       "      <td>10743.589744</td>\n",
       "      <td>1434.723804</td>\n",
       "    </tr>\n",
       "  </tbody>\n",
       "</table>\n",
       "</div>"
      ],
      "text/plain": [
       "                    sum          mean           min            max  \\\n",
       "売り上げ(円/日）  3.993846e+06  78310.708899  12307.692308  322307.692308   \n",
       "来客数(人/日)   5.576000e+03    111.520000     30.000000     159.000000   \n",
       "客単価(円/人)   4.381578e+04    876.315627     88.544549   10743.589744   \n",
       "\n",
       "                    std  \n",
       "売り上げ(円/日）  37533.107944  \n",
       "来客数(人/日)      27.151307  \n",
       "客単価(円/人)    1434.723804  "
      ]
     },
     "execution_count": 11,
     "metadata": {},
     "output_type": "execute_result"
    }
   ],
   "source": [
    "def sample(x):\n",
    "    return x\n",
    "\n",
    "\n",
    "df[['売り上げ(円/日）', '来客数(人/日)', '客単価(円/人)']].agg(['sum', 'mean', 'min', 'max', 'std']).T"
   ]
  },
  {
   "cell_type": "code",
   "execution_count": 12,
   "metadata": {},
   "outputs": [],
   "source": [
    "df_sample = pd.DataFrame(np.random.randn(100, 3), columns=list('ABC'))"
   ]
  },
  {
   "cell_type": "code",
   "execution_count": 13,
   "metadata": {},
   "outputs": [
    {
     "data": {
      "text/plain": [
       "(100, 3)"
      ]
     },
     "execution_count": 13,
     "metadata": {},
     "output_type": "execute_result"
    }
   ],
   "source": [
    "df_sample.shape"
   ]
  },
  {
   "cell_type": "code",
   "execution_count": null,
   "metadata": {},
   "outputs": [],
   "source": []
  },
  {
   "cell_type": "code",
   "execution_count": 14,
   "metadata": {},
   "outputs": [
    {
     "data": {
      "text/html": [
       "<div>\n",
       "<style scoped>\n",
       "    .dataframe tbody tr th:only-of-type {\n",
       "        vertical-align: middle;\n",
       "    }\n",
       "\n",
       "    .dataframe tbody tr th {\n",
       "        vertical-align: top;\n",
       "    }\n",
       "\n",
       "    .dataframe thead th {\n",
       "        text-align: right;\n",
       "    }\n",
       "</style>\n",
       "<table border=\"1\" class=\"dataframe\">\n",
       "  <thead>\n",
       "    <tr style=\"text-align: right;\">\n",
       "      <th></th>\n",
       "      <th>A</th>\n",
       "      <th>B</th>\n",
       "      <th>C</th>\n",
       "    </tr>\n",
       "  </thead>\n",
       "  <tbody>\n",
       "    <tr>\n",
       "      <th>sum</th>\n",
       "      <td>-18.529943</td>\n",
       "      <td>4.206821</td>\n",
       "      <td>4.472247</td>\n",
       "    </tr>\n",
       "    <tr>\n",
       "      <th>mean</th>\n",
       "      <td>-0.185299</td>\n",
       "      <td>0.042068</td>\n",
       "      <td>0.044722</td>\n",
       "    </tr>\n",
       "    <tr>\n",
       "      <th>min</th>\n",
       "      <td>-2.746064</td>\n",
       "      <td>-2.192341</td>\n",
       "      <td>-2.867760</td>\n",
       "    </tr>\n",
       "    <tr>\n",
       "      <th>max</th>\n",
       "      <td>2.082633</td>\n",
       "      <td>2.979322</td>\n",
       "      <td>3.197813</td>\n",
       "    </tr>\n",
       "    <tr>\n",
       "      <th>std</th>\n",
       "      <td>1.024335</td>\n",
       "      <td>0.862250</td>\n",
       "      <td>1.118347</td>\n",
       "    </tr>\n",
       "  </tbody>\n",
       "</table>\n",
       "</div>"
      ],
      "text/plain": [
       "              A         B         C\n",
       "sum  -18.529943  4.206821  4.472247\n",
       "mean  -0.185299  0.042068  0.044722\n",
       "min   -2.746064 -2.192341 -2.867760\n",
       "max    2.082633  2.979322  3.197813\n",
       "std    1.024335  0.862250  1.118347"
      ]
     },
     "execution_count": 14,
     "metadata": {},
     "output_type": "execute_result"
    }
   ],
   "source": [
    "df_sample.agg(['sum', 'mean', 'min', 'max', 'std'])"
   ]
  },
  {
   "cell_type": "code",
   "execution_count": 15,
   "metadata": {},
   "outputs": [
    {
     "data": {
      "text/plain": [
       "(99, 3)"
      ]
     },
     "execution_count": 15,
     "metadata": {},
     "output_type": "execute_result"
    }
   ],
   "source": [
    "df_sample[df_sample.apply(lambda x: np.abs(x - x.mean()) / x.std() < 3).all(axis=1)].shape"
   ]
  },
  {
   "cell_type": "code",
   "execution_count": 16,
   "metadata": {},
   "outputs": [
    {
     "data": {
      "text/html": [
       "<div>\n",
       "<style scoped>\n",
       "    .dataframe tbody tr th:only-of-type {\n",
       "        vertical-align: middle;\n",
       "    }\n",
       "\n",
       "    .dataframe tbody tr th {\n",
       "        vertical-align: top;\n",
       "    }\n",
       "\n",
       "    .dataframe thead th {\n",
       "        text-align: right;\n",
       "    }\n",
       "</style>\n",
       "<table border=\"1\" class=\"dataframe\">\n",
       "  <thead>\n",
       "    <tr style=\"text-align: right;\">\n",
       "      <th></th>\n",
       "      <th>A</th>\n",
       "      <th>B</th>\n",
       "      <th>C</th>\n",
       "    </tr>\n",
       "  </thead>\n",
       "  <tbody>\n",
       "    <tr>\n",
       "      <th>84</th>\n",
       "      <td>-0.351678</td>\n",
       "      <td>2.979322</td>\n",
       "      <td>2.011263</td>\n",
       "    </tr>\n",
       "  </tbody>\n",
       "</table>\n",
       "</div>"
      ],
      "text/plain": [
       "           A         B         C\n",
       "84 -0.351678  2.979322  2.011263"
      ]
     },
     "execution_count": 16,
     "metadata": {},
     "output_type": "execute_result"
    }
   ],
   "source": [
    "df_sample[~df_sample.apply(lambda x: np.abs(x - x.mean()) / x.std() < 3).all(axis=1)]"
   ]
  },
  {
   "cell_type": "code",
   "execution_count": null,
   "metadata": {},
   "outputs": [],
   "source": []
  },
  {
   "cell_type": "code",
   "execution_count": 19,
   "metadata": {},
   "outputs": [],
   "source": [
    "temp_df = df[['売り上げ(円/日）', '来客数(人/日)', '客単価(円/人)']]"
   ]
  },
  {
   "cell_type": "code",
   "execution_count": 20,
   "metadata": {},
   "outputs": [
    {
     "data": {
      "text/plain": [
       "(49, 3)"
      ]
     },
     "execution_count": 20,
     "metadata": {},
     "output_type": "execute_result"
    }
   ],
   "source": [
    "temp_df[temp_df.apply(lambda x: np.abs(x - x.mean()) / x.std() < 3).all(axis=1)].shape"
   ]
  },
  {
   "cell_type": "code",
   "execution_count": 21,
   "metadata": {},
   "outputs": [
    {
     "data": {
      "text/html": [
       "<div>\n",
       "<style scoped>\n",
       "    .dataframe tbody tr th:only-of-type {\n",
       "        vertical-align: middle;\n",
       "    }\n",
       "\n",
       "    .dataframe tbody tr th {\n",
       "        vertical-align: top;\n",
       "    }\n",
       "\n",
       "    .dataframe thead th {\n",
       "        text-align: right;\n",
       "    }\n",
       "</style>\n",
       "<table border=\"1\" class=\"dataframe\">\n",
       "  <thead>\n",
       "    <tr style=\"text-align: right;\">\n",
       "      <th></th>\n",
       "      <th>売り上げ(円/日）</th>\n",
       "      <th>来客数(人/日)</th>\n",
       "      <th>客単価(円/人)</th>\n",
       "    </tr>\n",
       "  </thead>\n",
       "  <tbody>\n",
       "    <tr>\n",
       "      <th>19</th>\n",
       "      <td>73846.153846</td>\n",
       "      <td>NaN</td>\n",
       "      <td>NaN</td>\n",
       "    </tr>\n",
       "    <tr>\n",
       "      <th>33</th>\n",
       "      <td>322307.692308</td>\n",
       "      <td>30.0</td>\n",
       "      <td>10743.589744</td>\n",
       "    </tr>\n",
       "  </tbody>\n",
       "</table>\n",
       "</div>"
      ],
      "text/plain": [
       "        売り上げ(円/日）  来客数(人/日)      客単価(円/人)\n",
       "19   73846.153846       NaN           NaN\n",
       "33  322307.692308      30.0  10743.589744"
      ]
     },
     "execution_count": 21,
     "metadata": {},
     "output_type": "execute_result"
    }
   ],
   "source": [
    "temp_df[~temp_df.apply(lambda x: np.abs(x - x.mean()) / x.std() < 3).all(axis=1)]"
   ]
  },
  {
   "cell_type": "code",
   "execution_count": null,
   "metadata": {},
   "outputs": [],
   "source": [
    "# 標準偏差\n",
    "\n",
    "\n",
    "\n",
    "# "
   ]
  }
 ],
 "metadata": {
  "kernelspec": {
   "display_name": "Python 3",
   "language": "python",
   "name": "python3"
  },
  "language_info": {
   "codemirror_mode": {
    "name": "ipython",
    "version": 3
   },
   "file_extension": ".py",
   "mimetype": "text/x-python",
   "name": "python",
   "nbconvert_exporter": "python",
   "pygments_lexer": "ipython3",
   "version": "3.7.3"
  }
 },
 "nbformat": 4,
 "nbformat_minor": 4
}
