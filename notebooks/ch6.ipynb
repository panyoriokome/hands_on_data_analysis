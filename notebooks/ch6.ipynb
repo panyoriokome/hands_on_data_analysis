{
 "cells": [
  {
   "cell_type": "markdown",
   "metadata": {},
   "source": [
    "## ワーク6.1 差の確からしさの検証"
   ]
  },
  {
   "cell_type": "code",
   "execution_count": 1,
   "metadata": {},
   "outputs": [],
   "source": [
    "import pandas as pd\n",
    "import numpy as np\n",
    "\n",
    "# 可視化\n",
    "import seaborn as sns\n",
    "from matplotlib import pyplot as plt\n",
    "import matplotlib\n",
    "\n",
    "sns.set(context=\"notebook\",\n",
    "        font=\"Hiragino Maru Gothic Pro\")\n",
    "\n",
    "\n",
    "pd.set_option('display.max_rows', 200)\n",
    "pd.set_option('display.max_columns', 500)\n",
    "\n",
    "def load_excel_file_into_data_frame(sheet, skiprows, cols):\n",
    "    # skiprows:先頭の何行を読み込まないかを指定する引数\n",
    "    # skip_footer:最後の何行を読み込まないか指定する引数\n",
    "    # usecols:読み込む列を指定\n",
    "    df = xls.parse(sheet,\n",
    "                            skiprows = skiprows,\n",
    "                            usecols = cols\n",
    "                  )\n",
    "    # 全ての行がNaNの行を削除\n",
    "    df = df.dropna(how='all')\n",
    "    return df"
   ]
  },
  {
   "cell_type": "code",
   "execution_count": 4,
   "metadata": {},
   "outputs": [],
   "source": [
    "FILE_NAME = 'ワーク用データ.xlsx'\n",
    "xls = pd.ExcelFile('../data/' + FILE_NAME)\n",
    "df = load_excel_file_into_data_frame('店舗業績3', skiprows=3, cols='C:H')"
   ]
  },
  {
   "cell_type": "code",
   "execution_count": 5,
   "metadata": {},
   "outputs": [
    {
     "data": {
      "text/html": [
       "<div>\n",
       "<style scoped>\n",
       "    .dataframe tbody tr th:only-of-type {\n",
       "        vertical-align: middle;\n",
       "    }\n",
       "\n",
       "    .dataframe tbody tr th {\n",
       "        vertical-align: top;\n",
       "    }\n",
       "\n",
       "    .dataframe thead th {\n",
       "        text-align: right;\n",
       "    }\n",
       "</style>\n",
       "<table border=\"1\" class=\"dataframe\">\n",
       "  <thead>\n",
       "    <tr style=\"text-align: right;\">\n",
       "      <th></th>\n",
       "      <th>店舗番号</th>\n",
       "      <th>店舗形態</th>\n",
       "      <th>立地（１：郊外、２：都心）</th>\n",
       "      <th>売り上げ(円/日）</th>\n",
       "      <th>来客数(人/日)</th>\n",
       "      <th>客単価(円/人)</th>\n",
       "    </tr>\n",
       "  </thead>\n",
       "  <tbody>\n",
       "    <tr>\n",
       "      <th>0</th>\n",
       "      <td>1</td>\n",
       "      <td>Ａ</td>\n",
       "      <td>2</td>\n",
       "      <td>91538.461538</td>\n",
       "      <td>145.0</td>\n",
       "      <td>631.299735</td>\n",
       "    </tr>\n",
       "    <tr>\n",
       "      <th>1</th>\n",
       "      <td>2</td>\n",
       "      <td>Ａ</td>\n",
       "      <td>2</td>\n",
       "      <td>93846.153846</td>\n",
       "      <td>141.0</td>\n",
       "      <td>665.575559</td>\n",
       "    </tr>\n",
       "    <tr>\n",
       "      <th>2</th>\n",
       "      <td>3</td>\n",
       "      <td>Ａ</td>\n",
       "      <td>1</td>\n",
       "      <td>79230.769231</td>\n",
       "      <td>134.0</td>\n",
       "      <td>591.274397</td>\n",
       "    </tr>\n",
       "    <tr>\n",
       "      <th>3</th>\n",
       "      <td>4</td>\n",
       "      <td>Ａ</td>\n",
       "      <td>1</td>\n",
       "      <td>73846.153846</td>\n",
       "      <td>132.0</td>\n",
       "      <td>559.440559</td>\n",
       "    </tr>\n",
       "    <tr>\n",
       "      <th>4</th>\n",
       "      <td>5</td>\n",
       "      <td>Ａ</td>\n",
       "      <td>1</td>\n",
       "      <td>118461.538462</td>\n",
       "      <td>87.0</td>\n",
       "      <td>1361.626879</td>\n",
       "    </tr>\n",
       "  </tbody>\n",
       "</table>\n",
       "</div>"
      ],
      "text/plain": [
       "   店舗番号 店舗形態  立地（１：郊外、２：都心）      売り上げ(円/日）  来客数(人/日)     客単価(円/人)\n",
       "0     1    Ａ              2   91538.461538     145.0   631.299735\n",
       "1     2    Ａ              2   93846.153846     141.0   665.575559\n",
       "2     3    Ａ              1   79230.769231     134.0   591.274397\n",
       "3     4    Ａ              1   73846.153846     132.0   559.440559\n",
       "4     5    Ａ              1  118461.538462      87.0  1361.626879"
      ]
     },
     "execution_count": 5,
     "metadata": {},
     "output_type": "execute_result"
    }
   ],
   "source": [
    "df.head()"
   ]
  },
  {
   "cell_type": "code",
   "execution_count": 10,
   "metadata": {},
   "outputs": [],
   "source": [
    "urban = df[df['立地（１：郊外、２：都心）'] == 2]\n",
    "suburb = df[df['立地（１：郊外、２：都心）'] == 1]"
   ]
  },
  {
   "cell_type": "code",
   "execution_count": 13,
   "metadata": {},
   "outputs": [
    {
     "name": "stdout",
     "output_type": "stream",
     "text": [
      "都心のサンプル数: (24, 6)\n",
      "郊外のサンプル数: (27, 6)\n"
     ]
    }
   ],
   "source": [
    "print('都心のサンプル数:', urban.shape)\n",
    "print('郊外のサンプル数:', suburb.shape)"
   ]
  },
  {
   "cell_type": "code",
   "execution_count": 12,
   "metadata": {},
   "outputs": [
    {
     "data": {
      "text/html": [
       "<div>\n",
       "<style scoped>\n",
       "    .dataframe tbody tr th:only-of-type {\n",
       "        vertical-align: middle;\n",
       "    }\n",
       "\n",
       "    .dataframe tbody tr th {\n",
       "        vertical-align: top;\n",
       "    }\n",
       "\n",
       "    .dataframe thead th {\n",
       "        text-align: right;\n",
       "    }\n",
       "</style>\n",
       "<table border=\"1\" class=\"dataframe\">\n",
       "  <thead>\n",
       "    <tr style=\"text-align: right;\">\n",
       "      <th></th>\n",
       "      <th>店舗番号</th>\n",
       "      <th>店舗形態</th>\n",
       "      <th>立地（１：郊外、２：都心）</th>\n",
       "      <th>売り上げ(円/日）</th>\n",
       "      <th>来客数(人/日)</th>\n",
       "      <th>客単価(円/人)</th>\n",
       "    </tr>\n",
       "  </thead>\n",
       "  <tbody>\n",
       "    <tr>\n",
       "      <th>2</th>\n",
       "      <td>3</td>\n",
       "      <td>Ａ</td>\n",
       "      <td>1</td>\n",
       "      <td>79230.769231</td>\n",
       "      <td>134.0</td>\n",
       "      <td>591.274397</td>\n",
       "    </tr>\n",
       "    <tr>\n",
       "      <th>3</th>\n",
       "      <td>4</td>\n",
       "      <td>Ａ</td>\n",
       "      <td>1</td>\n",
       "      <td>73846.153846</td>\n",
       "      <td>132.0</td>\n",
       "      <td>559.440559</td>\n",
       "    </tr>\n",
       "    <tr>\n",
       "      <th>4</th>\n",
       "      <td>5</td>\n",
       "      <td>Ａ</td>\n",
       "      <td>1</td>\n",
       "      <td>118461.538462</td>\n",
       "      <td>87.0</td>\n",
       "      <td>1361.626879</td>\n",
       "    </tr>\n",
       "    <tr>\n",
       "      <th>7</th>\n",
       "      <td>8</td>\n",
       "      <td>Ａ</td>\n",
       "      <td>1</td>\n",
       "      <td>68461.538462</td>\n",
       "      <td>102.0</td>\n",
       "      <td>671.191554</td>\n",
       "    </tr>\n",
       "    <tr>\n",
       "      <th>8</th>\n",
       "      <td>9</td>\n",
       "      <td>Ａ</td>\n",
       "      <td>1</td>\n",
       "      <td>67692.307692</td>\n",
       "      <td>87.0</td>\n",
       "      <td>778.072502</td>\n",
       "    </tr>\n",
       "  </tbody>\n",
       "</table>\n",
       "</div>"
      ],
      "text/plain": [
       "   店舗番号 店舗形態  立地（１：郊外、２：都心）      売り上げ(円/日）  来客数(人/日)     客単価(円/人)\n",
       "2     3    Ａ              1   79230.769231     134.0   591.274397\n",
       "3     4    Ａ              1   73846.153846     132.0   559.440559\n",
       "4     5    Ａ              1  118461.538462      87.0  1361.626879\n",
       "7     8    Ａ              1   68461.538462     102.0   671.191554\n",
       "8     9    Ａ              1   67692.307692      87.0   778.072502"
      ]
     },
     "execution_count": 12,
     "metadata": {},
     "output_type": "execute_result"
    }
   ],
   "source": [
    "suburb.head()"
   ]
  },
  {
   "cell_type": "code",
   "execution_count": 14,
   "metadata": {},
   "outputs": [],
   "source": [
    "from scipy import stats"
   ]
  },
  {
   "cell_type": "code",
   "execution_count": 15,
   "metadata": {},
   "outputs": [
    {
     "ename": "ValueError",
     "evalue": "unequal length arrays",
     "output_type": "error",
     "traceback": [
      "\u001b[0;31m---------------------------------------------------------------------------\u001b[0m",
      "\u001b[0;31mValueError\u001b[0m                                Traceback (most recent call last)",
      "\u001b[0;32m<ipython-input-15-ed37142e7b96>\u001b[0m in \u001b[0;36m<module>\u001b[0;34m\u001b[0m\n\u001b[1;32m      2\u001b[0m \u001b[0mB\u001b[0m \u001b[0;34m=\u001b[0m \u001b[0msuburb\u001b[0m\u001b[0;34m[\u001b[0m\u001b[0;34m'売り上げ(円/日）'\u001b[0m\u001b[0;34m]\u001b[0m\u001b[0;34m\u001b[0m\u001b[0;34m\u001b[0m\u001b[0m\n\u001b[1;32m      3\u001b[0m \u001b[0;34m\u001b[0m\u001b[0m\n\u001b[0;32m----> 4\u001b[0;31m \u001b[0mstats\u001b[0m\u001b[0;34m.\u001b[0m\u001b[0mttest_rel\u001b[0m\u001b[0;34m(\u001b[0m\u001b[0mA\u001b[0m\u001b[0;34m,\u001b[0m \u001b[0mB\u001b[0m\u001b[0;34m)\u001b[0m\u001b[0;34m\u001b[0m\u001b[0;34m\u001b[0m\u001b[0m\n\u001b[0m",
      "\u001b[0;32m~/Documents/workspace/.venv/lib/python3.7/site-packages/scipy/stats/stats.py\u001b[0m in \u001b[0;36mttest_rel\u001b[0;34m(a, b, axis, nan_policy)\u001b[0m\n\u001b[1;32m   5348\u001b[0m \u001b[0;34m\u001b[0m\u001b[0m\n\u001b[1;32m   5349\u001b[0m     \u001b[0;32mif\u001b[0m \u001b[0ma\u001b[0m\u001b[0;34m.\u001b[0m\u001b[0mshape\u001b[0m\u001b[0;34m[\u001b[0m\u001b[0maxis\u001b[0m\u001b[0;34m]\u001b[0m \u001b[0;34m!=\u001b[0m \u001b[0mb\u001b[0m\u001b[0;34m.\u001b[0m\u001b[0mshape\u001b[0m\u001b[0;34m[\u001b[0m\u001b[0maxis\u001b[0m\u001b[0;34m]\u001b[0m\u001b[0;34m:\u001b[0m\u001b[0;34m\u001b[0m\u001b[0;34m\u001b[0m\u001b[0m\n\u001b[0;32m-> 5350\u001b[0;31m         \u001b[0;32mraise\u001b[0m \u001b[0mValueError\u001b[0m\u001b[0;34m(\u001b[0m\u001b[0;34m'unequal length arrays'\u001b[0m\u001b[0;34m)\u001b[0m\u001b[0;34m\u001b[0m\u001b[0;34m\u001b[0m\u001b[0m\n\u001b[0m\u001b[1;32m   5351\u001b[0m \u001b[0;34m\u001b[0m\u001b[0m\n\u001b[1;32m   5352\u001b[0m     \u001b[0;32mif\u001b[0m \u001b[0ma\u001b[0m\u001b[0;34m.\u001b[0m\u001b[0msize\u001b[0m \u001b[0;34m==\u001b[0m \u001b[0;36m0\u001b[0m \u001b[0;32mor\u001b[0m \u001b[0mb\u001b[0m\u001b[0;34m.\u001b[0m\u001b[0msize\u001b[0m \u001b[0;34m==\u001b[0m \u001b[0;36m0\u001b[0m\u001b[0;34m:\u001b[0m\u001b[0;34m\u001b[0m\u001b[0;34m\u001b[0m\u001b[0m\n",
      "\u001b[0;31mValueError\u001b[0m: unequal length arrays"
     ]
    }
   ],
   "source": [
    "A = urban['売り上げ(円/日）']\n",
    "B = suburb['売り上げ(円/日）']\n",
    "\n",
    "stats.ttest_rel(A, B)"
   ]
  },
  {
   "cell_type": "code",
   "execution_count": null,
   "metadata": {},
   "outputs": [],
   "source": []
  }
 ],
 "metadata": {
  "kernelspec": {
   "display_name": "Python 3",
   "language": "python",
   "name": "python3"
  },
  "language_info": {
   "codemirror_mode": {
    "name": "ipython",
    "version": 3
   },
   "file_extension": ".py",
   "mimetype": "text/x-python",
   "name": "python",
   "nbconvert_exporter": "python",
   "pygments_lexer": "ipython3",
   "version": "3.7.3"
  }
 },
 "nbformat": 4,
 "nbformat_minor": 4
}
