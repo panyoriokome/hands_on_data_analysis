{
 "cells": [
  {
   "cell_type": "code",
   "execution_count": 3,
   "metadata": {},
   "outputs": [],
   "source": [
    "import pandas as pd\n",
    "import numpy as np\n",
    "\n",
    "# 可視化\n",
    "import seaborn as sns\n",
    "from matplotlib import pyplot as plt\n",
    "import matplotlib\n",
    "\n",
    "sns.set(context=\"notebook\",\n",
    "        font=\"Hiragino Maru Gothic Pro\")\n",
    "\n",
    "\n",
    "pd.set_option('display.max_rows', 200)\n",
    "pd.set_option('display.max_columns', 500)\n",
    "\n",
    "def load_excel_file_into_data_frame(sheet, skiprows, cols):\n",
    "    # skiprows:先頭の何行を読み込まないかを指定する引数\n",
    "    # skip_footer:最後の何行を読み込まないか指定する引数\n",
    "    # usecols:読み込む列を指定\n",
    "    df = xls.parse(sheet,\n",
    "                            skiprows = skiprows,\n",
    "                            usecols = cols\n",
    "                  )\n",
    "    # 全ての行がNaNの行を削除\n",
    "    df = df.dropna(how='all')\n",
    "    return df\n",
    "\n",
    "FILE_NAME = 'ワーク用データ.xlsx'\n",
    "xls = pd.ExcelFile('../data/' + FILE_NAME)"
   ]
  },
  {
   "cell_type": "code",
   "execution_count": 11,
   "metadata": {},
   "outputs": [],
   "source": [
    "monopoly = load_excel_file_into_data_frame('モノポリー', 2, 'B:C')"
   ]
  },
  {
   "cell_type": "code",
   "execution_count": 14,
   "metadata": {},
   "outputs": [
    {
     "name": "stdout",
     "output_type": "stream",
     "text": [
      "平均\n",
      "37.483870967741936\n",
      "中央値\n",
      "4.0\n",
      "最頻値\n",
      "0    3\n",
      "dtype: int64\n"
     ]
    }
   ],
   "source": [
    "print('平均')\n",
    "print(monopoly['ゲームの点数'].mean())\n",
    "\n",
    "print('中央値')\n",
    "print(monopoly['ゲームの点数'].median())\n",
    "\n",
    "print('最頻値')\n",
    "print(monopoly['ゲームの点数'].mode())"
   ]
  },
  {
   "cell_type": "code",
   "execution_count": null,
   "metadata": {},
   "outputs": [],
   "source": []
  }
 ],
 "metadata": {
  "kernelspec": {
   "display_name": "Python 3",
   "language": "python",
   "name": "python3"
  },
  "language_info": {
   "codemirror_mode": {
    "name": "ipython",
    "version": 3
   },
   "file_extension": ".py",
   "mimetype": "text/x-python",
   "name": "python",
   "nbconvert_exporter": "python",
   "pygments_lexer": "ipython3",
   "version": "3.7.3"
  }
 },
 "nbformat": 4,
 "nbformat_minor": 4
}
