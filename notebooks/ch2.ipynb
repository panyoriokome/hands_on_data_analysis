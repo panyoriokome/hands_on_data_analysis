{
 "cells": [
  {
   "cell_type": "markdown",
   "metadata": {},
   "source": [
    "## 2-3. データの全体概要をチェックする"
   ]
  },
  {
   "cell_type": "code",
   "execution_count": 44,
   "metadata": {},
   "outputs": [],
   "source": [
    "import pandas as pd\n",
    "import numpy as np\n",
    "\n",
    "# 可視化\n",
    "import seaborn as sns\n",
    "from matplotlib import pyplot as plt\n",
    "import matplotlib\n",
    "\n",
    "sns.set(context=\"notebook\",\n",
    "        font=\"Hiragino Maru Gothic Pro\")\n",
    "\n",
    "\n",
    "pd.set_option('display.max_rows', 200)\n",
    "pd.set_option('display.max_columns', 500)"
   ]
  },
  {
   "cell_type": "code",
   "execution_count": 2,
   "metadata": {},
   "outputs": [],
   "source": [
    "def load_excel_file_into_data_frame(sheet, skiprows, cols):\n",
    "    # skiprows:先頭の何行を読み込まないかを指定する引数\n",
    "    # skip_footer:最後の何行を読み込まないか指定する引数\n",
    "    # usecols:読み込む列を指定\n",
    "    df = xls.parse(sheet,\n",
    "                            skiprows = skiprows,\n",
    "                            usecols = cols\n",
    "                  )\n",
    "    # 全ての行がNaNの行を削除\n",
    "    df = df.dropna(how='all')\n",
    "    return df\n",
    "\n",
    "FILE_NAME = 'ワーク用データ.xlsx'\n",
    "xls = pd.ExcelFile('../data/' + FILE_NAME)\n",
    "\n",
    "# アンケートのデータを読み込み\n",
    "survey_df = load_excel_file_into_data_frame(\n",
    "    sheet='商品データ',\n",
    "    skiprows = 3,\n",
    "    cols = \"B:J\")\n",
    "\n",
    "# 来店客数のデータを読み込み\n",
    "visit_df = load_excel_file_into_data_frame(\n",
    "    sheet='商品データ',\n",
    "    skiprows = 4,\n",
    "    cols = \"L:Q\")\n",
    "\n",
    "# 商品情報のデータを読み込み\n",
    "item_df = load_excel_file_into_data_frame(\n",
    "    sheet='商品データ',\n",
    "    skiprows = 3,\n",
    "    cols = \"S:V\")\n",
    "# 不要なデータ（店舗情報）が混じっているため、必要なデータのみを抽出\n",
    "item_df = item_df.iloc[0:3, :]\n",
    "\n",
    "# 店舗情報のデータを読み込み\n",
    "store_df = load_excel_file_into_data_frame(\n",
    "    sheet='商品データ',\n",
    "    skiprows = 9,\n",
    "    cols = \"S:V\")"
   ]
  },
  {
   "cell_type": "code",
   "execution_count": 3,
   "metadata": {},
   "outputs": [
    {
     "data": {
      "text/plain": [
       "(500, 9)"
      ]
     },
     "execution_count": 3,
     "metadata": {},
     "output_type": "execute_result"
    }
   ],
   "source": [
    "survey_df.shape"
   ]
  },
  {
   "cell_type": "code",
   "execution_count": 4,
   "metadata": {},
   "outputs": [
    {
     "data": {
      "text/plain": [
       "(8, 6)"
      ]
     },
     "execution_count": 4,
     "metadata": {},
     "output_type": "execute_result"
    }
   ],
   "source": [
    "visit_df.shape"
   ]
  },
  {
   "cell_type": "code",
   "execution_count": 5,
   "metadata": {},
   "outputs": [
    {
     "data": {
      "text/plain": [
       "(3, 4)"
      ]
     },
     "execution_count": 5,
     "metadata": {},
     "output_type": "execute_result"
    }
   ],
   "source": [
    "item_df.shape"
   ]
  },
  {
   "cell_type": "code",
   "execution_count": 6,
   "metadata": {},
   "outputs": [
    {
     "data": {
      "text/plain": [
       "(3, 4)"
      ]
     },
     "execution_count": 6,
     "metadata": {},
     "output_type": "execute_result"
    }
   ],
   "source": [
    "store_df.shape"
   ]
  },
  {
   "cell_type": "code",
   "execution_count": 7,
   "metadata": {},
   "outputs": [
    {
     "data": {
      "text/html": [
       "<div>\n",
       "<style scoped>\n",
       "    .dataframe tbody tr th:only-of-type {\n",
       "        vertical-align: middle;\n",
       "    }\n",
       "\n",
       "    .dataframe tbody tr th {\n",
       "        vertical-align: top;\n",
       "    }\n",
       "\n",
       "    .dataframe thead th {\n",
       "        text-align: right;\n",
       "    }\n",
       "</style>\n",
       "<table border=\"1\" class=\"dataframe\">\n",
       "  <thead>\n",
       "    <tr style=\"text-align: right;\">\n",
       "      <th></th>\n",
       "      <th>回答者番号</th>\n",
       "      <th>性別\\n（１男性、　２女性）</th>\n",
       "      <th>年齢</th>\n",
       "      <th>↑\\n年齢層\\n</th>\n",
       "      <th>値ごろ感\\n（１安い-５高い）</th>\n",
       "      <th>デザイン評価\\n（１悪い-５良い）</th>\n",
       "      <th>購入意向\\n（1買いたい-５買いたくない）</th>\n",
       "    </tr>\n",
       "  </thead>\n",
       "  <tbody>\n",
       "    <tr>\n",
       "      <th>count</th>\n",
       "      <td>500.000000</td>\n",
       "      <td>500.000000</td>\n",
       "      <td>500.000000</td>\n",
       "      <td>500.000000</td>\n",
       "      <td>500.000000</td>\n",
       "      <td>500.000000</td>\n",
       "      <td>500.000000</td>\n",
       "    </tr>\n",
       "    <tr>\n",
       "      <th>mean</th>\n",
       "      <td>250.500000</td>\n",
       "      <td>1.484000</td>\n",
       "      <td>31.936000</td>\n",
       "      <td>2.764000</td>\n",
       "      <td>3.014000</td>\n",
       "      <td>2.568000</td>\n",
       "      <td>3.014000</td>\n",
       "    </tr>\n",
       "    <tr>\n",
       "      <th>std</th>\n",
       "      <td>144.481833</td>\n",
       "      <td>0.500244</td>\n",
       "      <td>14.404127</td>\n",
       "      <td>1.404368</td>\n",
       "      <td>0.736811</td>\n",
       "      <td>0.859566</td>\n",
       "      <td>1.095538</td>\n",
       "    </tr>\n",
       "    <tr>\n",
       "      <th>min</th>\n",
       "      <td>1.000000</td>\n",
       "      <td>1.000000</td>\n",
       "      <td>11.000000</td>\n",
       "      <td>1.000000</td>\n",
       "      <td>2.000000</td>\n",
       "      <td>1.000000</td>\n",
       "      <td>1.000000</td>\n",
       "    </tr>\n",
       "    <tr>\n",
       "      <th>25%</th>\n",
       "      <td>125.750000</td>\n",
       "      <td>1.000000</td>\n",
       "      <td>20.000000</td>\n",
       "      <td>2.000000</td>\n",
       "      <td>2.000000</td>\n",
       "      <td>2.000000</td>\n",
       "      <td>2.000000</td>\n",
       "    </tr>\n",
       "    <tr>\n",
       "      <th>50%</th>\n",
       "      <td>250.500000</td>\n",
       "      <td>1.000000</td>\n",
       "      <td>30.000000</td>\n",
       "      <td>3.000000</td>\n",
       "      <td>3.000000</td>\n",
       "      <td>3.000000</td>\n",
       "      <td>3.000000</td>\n",
       "    </tr>\n",
       "    <tr>\n",
       "      <th>75%</th>\n",
       "      <td>375.250000</td>\n",
       "      <td>2.000000</td>\n",
       "      <td>41.000000</td>\n",
       "      <td>4.000000</td>\n",
       "      <td>4.000000</td>\n",
       "      <td>3.000000</td>\n",
       "      <td>4.000000</td>\n",
       "    </tr>\n",
       "    <tr>\n",
       "      <th>max</th>\n",
       "      <td>500.000000</td>\n",
       "      <td>2.000000</td>\n",
       "      <td>60.000000</td>\n",
       "      <td>5.000000</td>\n",
       "      <td>4.000000</td>\n",
       "      <td>4.000000</td>\n",
       "      <td>5.000000</td>\n",
       "    </tr>\n",
       "  </tbody>\n",
       "</table>\n",
       "</div>"
      ],
      "text/plain": [
       "            回答者番号  性別\\n（１男性、　２女性）          年齢    ↑\\n年齢層\\n  値ごろ感\\n（１安い-５高い）  \\\n",
       "count  500.000000      500.000000  500.000000  500.000000       500.000000   \n",
       "mean   250.500000        1.484000   31.936000    2.764000         3.014000   \n",
       "std    144.481833        0.500244   14.404127    1.404368         0.736811   \n",
       "min      1.000000        1.000000   11.000000    1.000000         2.000000   \n",
       "25%    125.750000        1.000000   20.000000    2.000000         2.000000   \n",
       "50%    250.500000        1.000000   30.000000    3.000000         3.000000   \n",
       "75%    375.250000        2.000000   41.000000    4.000000         4.000000   \n",
       "max    500.000000        2.000000   60.000000    5.000000         4.000000   \n",
       "\n",
       "       デザイン評価\\n（１悪い-５良い）  購入意向\\n（1買いたい-５買いたくない）  \n",
       "count         500.000000             500.000000  \n",
       "mean            2.568000               3.014000  \n",
       "std             0.859566               1.095538  \n",
       "min             1.000000               1.000000  \n",
       "25%             2.000000               2.000000  \n",
       "50%             3.000000               3.000000  \n",
       "75%             3.000000               4.000000  \n",
       "max             4.000000               5.000000  "
      ]
     },
     "execution_count": 7,
     "metadata": {},
     "output_type": "execute_result"
    }
   ],
   "source": [
    "survey_df.describe()"
   ]
  },
  {
   "cell_type": "markdown",
   "metadata": {},
   "source": [
    "### 2-3. 欠損値のチェック\n",
    "\n",
    "#### ポイント\n",
    "- 欠損値はNaNかどうかはisna()またはisnull()で判定できる\n",
    "- ただし、空白が入っている場合はNaNにはならないので、replaceでNaNに明示的に変換してあげる"
   ]
  },
  {
   "cell_type": "code",
   "execution_count": 8,
   "metadata": {
    "scrolled": true
   },
   "outputs": [
    {
     "data": {
      "text/html": [
       "<div>\n",
       "<style scoped>\n",
       "    .dataframe tbody tr th:only-of-type {\n",
       "        vertical-align: middle;\n",
       "    }\n",
       "\n",
       "    .dataframe tbody tr th {\n",
       "        vertical-align: top;\n",
       "    }\n",
       "\n",
       "    .dataframe thead th {\n",
       "        text-align: right;\n",
       "    }\n",
       "</style>\n",
       "<table border=\"1\" class=\"dataframe\">\n",
       "  <thead>\n",
       "    <tr style=\"text-align: right;\">\n",
       "      <th></th>\n",
       "      <th>日時</th>\n",
       "      <th>1号機</th>\n",
       "      <th>2号機</th>\n",
       "      <th>3号機</th>\n",
       "    </tr>\n",
       "  </thead>\n",
       "  <tbody>\n",
       "    <tr>\n",
       "      <th>count</th>\n",
       "      <td>793</td>\n",
       "      <td>596</td>\n",
       "      <td>552</td>\n",
       "      <td>602</td>\n",
       "    </tr>\n",
       "    <tr>\n",
       "      <th>unique</th>\n",
       "      <td>793</td>\n",
       "      <td>588</td>\n",
       "      <td>493</td>\n",
       "      <td>595</td>\n",
       "    </tr>\n",
       "    <tr>\n",
       "      <th>top</th>\n",
       "      <td>2013-07-03 08:50:00</td>\n",
       "      <td></td>\n",
       "      <td></td>\n",
       "      <td></td>\n",
       "    </tr>\n",
       "    <tr>\n",
       "      <th>freq</th>\n",
       "      <td>1</td>\n",
       "      <td>9</td>\n",
       "      <td>60</td>\n",
       "      <td>8</td>\n",
       "    </tr>\n",
       "    <tr>\n",
       "      <th>first</th>\n",
       "      <td>2013-07-01 00:00:00</td>\n",
       "      <td>NaN</td>\n",
       "      <td>NaN</td>\n",
       "      <td>NaN</td>\n",
       "    </tr>\n",
       "    <tr>\n",
       "      <th>last</th>\n",
       "      <td>2013-07-06 12:00:00</td>\n",
       "      <td>NaN</td>\n",
       "      <td>NaN</td>\n",
       "      <td>NaN</td>\n",
       "    </tr>\n",
       "  </tbody>\n",
       "</table>\n",
       "</div>"
      ],
      "text/plain": [
       "                         日時  1号機  2号機  3号機\n",
       "count                   793  596  552  602\n",
       "unique                  793  588  493  595\n",
       "top     2013-07-03 08:50:00               \n",
       "freq                      1    9   60    8\n",
       "first   2013-07-01 00:00:00  NaN  NaN  NaN\n",
       "last    2013-07-06 12:00:00  NaN  NaN  NaN"
      ]
     },
     "execution_count": 8,
     "metadata": {},
     "output_type": "execute_result"
    }
   ],
   "source": [
    "# データの読み込み\n",
    "power_df = load_excel_file_into_data_frame(\n",
    "    sheet='発電機データ',\n",
    "    skiprows=4,\n",
    "    cols = \"B:E\")\n",
    "power_df.describe()"
   ]
  },
  {
   "cell_type": "code",
   "execution_count": 9,
   "metadata": {},
   "outputs": [
    {
     "data": {
      "text/plain": [
       "日時       0\n",
       "1号機    197\n",
       "2号機    241\n",
       "3号機    191\n",
       "dtype: int64"
      ]
     },
     "execution_count": 9,
     "metadata": {},
     "output_type": "execute_result"
    }
   ],
   "source": [
    "# 項目ごとの欠損値の数を求める\n",
    "power_df.isna().sum()\n",
    "\n",
    "# 上記と同じ\n",
    "# power_df.isnull().sum()"
   ]
  },
  {
   "cell_type": "code",
   "execution_count": 10,
   "metadata": {},
   "outputs": [
    {
     "name": "stdout",
     "output_type": "stream",
     "text": [
      "日時       0\n",
      "1号機    206\n",
      "2号機    301\n",
      "3号機    199\n",
      "dtype: int64\n"
     ]
    }
   ],
   "source": [
    "# 空白のみが含まれているデータをnp.nanに変換\n",
    "print(power_df.replace(r'^\\s*$', np.nan, regex=True).isna().sum())"
   ]
  },
  {
   "cell_type": "code",
   "execution_count": 11,
   "metadata": {},
   "outputs": [
    {
     "name": "stdout",
     "output_type": "stream",
     "text": [
      "706\n"
     ]
    }
   ],
   "source": [
    "# 欠損値の総数\n",
    "print(power_df.replace(r'^\\s*$', np.nan, regex=True).isna().sum().sum())"
   ]
  },
  {
   "cell_type": "markdown",
   "metadata": {},
   "source": [
    "### 2-4. 外れ値のチェック"
   ]
  },
  {
   "cell_type": "code",
   "execution_count": 17,
   "metadata": {},
   "outputs": [],
   "source": [
    "humberger_df = load_excel_file_into_data_frame(\n",
    "    sheet='店舗業績1',\n",
    "    skiprows=3,\n",
    "    cols = \"C:H\")"
   ]
  },
  {
   "cell_type": "code",
   "execution_count": 24,
   "metadata": {},
   "outputs": [
    {
     "name": "stdout",
     "output_type": "stream",
     "text": [
      "店舗番号             0\n",
      "店舗形態             0\n",
      "立地（１：郊外、２：都心）    0\n",
      "売り上げ(円/日）        0\n",
      "来客数(人/日)         1\n",
      "客単価(円/人)         1\n",
      "dtype: int64\n"
     ]
    }
   ],
   "source": [
    "# 欠損値の確認\n",
    "print(humberger_df.replace(r'^\\s*$', np.nan, regex=True).isna().sum())"
   ]
  },
  {
   "cell_type": "code",
   "execution_count": 25,
   "metadata": {},
   "outputs": [
    {
     "data": {
      "text/html": [
       "<div>\n",
       "<style scoped>\n",
       "    .dataframe tbody tr th:only-of-type {\n",
       "        vertical-align: middle;\n",
       "    }\n",
       "\n",
       "    .dataframe tbody tr th {\n",
       "        vertical-align: top;\n",
       "    }\n",
       "\n",
       "    .dataframe thead th {\n",
       "        text-align: right;\n",
       "    }\n",
       "</style>\n",
       "<table border=\"1\" class=\"dataframe\">\n",
       "  <thead>\n",
       "    <tr style=\"text-align: right;\">\n",
       "      <th></th>\n",
       "      <th>店舗番号</th>\n",
       "      <th>立地（１：郊外、２：都心）</th>\n",
       "      <th>売り上げ(円/日）</th>\n",
       "      <th>来客数(人/日)</th>\n",
       "      <th>客単価(円/人)</th>\n",
       "    </tr>\n",
       "  </thead>\n",
       "  <tbody>\n",
       "    <tr>\n",
       "      <th>count</th>\n",
       "      <td>51.000000</td>\n",
       "      <td>51.000000</td>\n",
       "      <td>51.000000</td>\n",
       "      <td>50.000000</td>\n",
       "      <td>50.000000</td>\n",
       "    </tr>\n",
       "    <tr>\n",
       "      <th>mean</th>\n",
       "      <td>26.000000</td>\n",
       "      <td>1.470588</td>\n",
       "      <td>75663.650075</td>\n",
       "      <td>112.320000</td>\n",
       "      <td>822.349275</td>\n",
       "    </tr>\n",
       "    <tr>\n",
       "      <th>std</th>\n",
       "      <td>14.866069</td>\n",
       "      <td>0.504101</td>\n",
       "      <td>31643.453610</td>\n",
       "      <td>28.055659</td>\n",
       "      <td>1219.899374</td>\n",
       "    </tr>\n",
       "    <tr>\n",
       "      <th>min</th>\n",
       "      <td>1.000000</td>\n",
       "      <td>1.000000</td>\n",
       "      <td>769.230769</td>\n",
       "      <td>30.000000</td>\n",
       "      <td>5.534034</td>\n",
       "    </tr>\n",
       "    <tr>\n",
       "      <th>25%</th>\n",
       "      <td>13.500000</td>\n",
       "      <td>1.000000</td>\n",
       "      <td>66923.076923</td>\n",
       "      <td>90.000000</td>\n",
       "      <td>560.983135</td>\n",
       "    </tr>\n",
       "    <tr>\n",
       "      <th>50%</th>\n",
       "      <td>26.000000</td>\n",
       "      <td>1.000000</td>\n",
       "      <td>73076.923077</td>\n",
       "      <td>99.000000</td>\n",
       "      <td>648.411666</td>\n",
       "    </tr>\n",
       "    <tr>\n",
       "      <th>75%</th>\n",
       "      <td>38.500000</td>\n",
       "      <td>2.000000</td>\n",
       "      <td>80384.615385</td>\n",
       "      <td>140.000000</td>\n",
       "      <td>765.224359</td>\n",
       "    </tr>\n",
       "    <tr>\n",
       "      <th>max</th>\n",
       "      <td>51.000000</td>\n",
       "      <td>2.000000</td>\n",
       "      <td>276538.461538</td>\n",
       "      <td>159.000000</td>\n",
       "      <td>9217.948718</td>\n",
       "    </tr>\n",
       "  </tbody>\n",
       "</table>\n",
       "</div>"
      ],
      "text/plain": [
       "            店舗番号  立地（１：郊外、２：都心）      売り上げ(円/日）    来客数(人/日)     客単価(円/人)\n",
       "count  51.000000      51.000000      51.000000   50.000000    50.000000\n",
       "mean   26.000000       1.470588   75663.650075  112.320000   822.349275\n",
       "std    14.866069       0.504101   31643.453610   28.055659  1219.899374\n",
       "min     1.000000       1.000000     769.230769   30.000000     5.534034\n",
       "25%    13.500000       1.000000   66923.076923   90.000000   560.983135\n",
       "50%    26.000000       1.000000   73076.923077   99.000000   648.411666\n",
       "75%    38.500000       2.000000   80384.615385  140.000000   765.224359\n",
       "max    51.000000       2.000000  276538.461538  159.000000  9217.948718"
      ]
     },
     "execution_count": 25,
     "metadata": {},
     "output_type": "execute_result"
    }
   ],
   "source": [
    "humberger_df.describe()"
   ]
  },
  {
   "cell_type": "code",
   "execution_count": 35,
   "metadata": {},
   "outputs": [],
   "source": [
    "from matplotlib import rcParams\n",
    "rcParams['font.family'] = 'sans-serif'\n",
    "rcParams['font.sans-serif'] = ['Hiragino Maru Gothic Pro', 'Yu Gothic', 'Meirio', 'Takao', 'IPAexGothic', 'IPAPGothic', 'VL PGothic', 'Noto Sans CJK JP']"
   ]
  },
  {
   "cell_type": "code",
   "execution_count": 45,
   "metadata": {},
   "outputs": [
    {
     "data": {
      "image/png": "[encoded data removed]",
      "text/plain": [
       "<Figure size 576x720 with 6 Axes>"
      ]
     },
     "metadata": {},
     "output_type": "display_data"
    }
   ],
   "source": [
    "# グラフのサイズの調整\n",
    "rcParams['figure.figsize'] = 8, 10\n",
    "humberger_df.hist()\n",
    "# グラフ同士が重ならないように\n",
    "plt.tight_layout()"
   ]
  },
  {
   "cell_type": "code",
   "execution_count": 33,
   "metadata": {},
   "outputs": [
    {
     "name": "stdout",
     "output_type": "stream",
     "text": [
      "66923.076923     4\n",
      "73846.153846     4\n",
      "64615.384615     3\n",
      "87692.307692     3\n",
      "73076.923077     3\n",
      "83846.153846     2\n",
      "72307.692308     2\n",
      "82307.692308     2\n",
      "74615.384615     2\n",
      "62307.692308     2\n",
      "80769.230769     2\n",
      "68461.538462     2\n",
      "70769.230769     2\n",
      "79230.769231     2\n",
      "50769.230769     1\n",
      "66153.846154     1\n",
      "56923.076923     1\n",
      "88461.538462     1\n",
      "63846.153846     1\n",
      "84615.384615     1\n",
      "67692.307692     1\n",
      "769.230769       1\n",
      "65384.615385     1\n",
      "57692.307692     1\n",
      "76923.076923     1\n",
      "86923.076923     1\n",
      "276538.461538    1\n",
      "78461.538462     1\n",
      "69230.769231     1\n",
      "80000.000000     1\n",
      "Name: 売り上げ(円/日）, dtype: int64\n"
     ]
    },
    {
     "data": {
      "image/png": "[encoded data removed]",
      "text/plain": [
       "<Figure size 648x432 with 1 Axes>"
      ]
     },
     "metadata": {
      "needs_background": "light"
     },
     "output_type": "display_data"
    }
   ],
   "source": [
    "humberger_df['売り上げ(円/日）'].hist(bins=10, figsize=(9, 6))"
   ]
  },
  {
   "cell_type": "code",
   "execution_count": 32,
   "metadata": {},
   "outputs": [
    {
     "name": "stderr",
     "output_type": "stream",
     "text": [
      "/Users/yusuke.watanabe/Documents/workspace/.venv/lib/python3.7/site-packages/matplotlib/backends/backend_agg.py:214: RuntimeWarning: Glyph 24215 missing from current font.\n",
      "  font.set_text(s, 0.0, flags=flags)\n",
      "/Users/yusuke.watanabe/Documents/workspace/.venv/lib/python3.7/site-packages/matplotlib/backends/backend_agg.py:214: RuntimeWarning: Glyph 33303 missing from current font.\n",
      "  font.set_text(s, 0.0, flags=flags)\n",
      "/Users/yusuke.watanabe/Documents/workspace/.venv/lib/python3.7/site-packages/matplotlib/backends/backend_agg.py:214: RuntimeWarning: Glyph 30058 missing from current font.\n",
      "  font.set_text(s, 0.0, flags=flags)\n",
      "/Users/yusuke.watanabe/Documents/workspace/.venv/lib/python3.7/site-packages/matplotlib/backends/backend_agg.py:214: RuntimeWarning: Glyph 21495 missing from current font.\n",
      "  font.set_text(s, 0.0, flags=flags)\n",
      "/Users/yusuke.watanabe/Documents/workspace/.venv/lib/python3.7/site-packages/matplotlib/backends/backend_agg.py:214: RuntimeWarning: Glyph 31435 missing from current font.\n",
      "  font.set_text(s, 0.0, flags=flags)\n",
      "/Users/yusuke.watanabe/Documents/workspace/.venv/lib/python3.7/site-packages/matplotlib/backends/backend_agg.py:214: RuntimeWarning: Glyph 22320 missing from current font.\n",
      "  font.set_text(s, 0.0, flags=flags)\n",
      "/Users/yusuke.watanabe/Documents/workspace/.venv/lib/python3.7/site-packages/matplotlib/backends/backend_agg.py:214: RuntimeWarning: Glyph 65288 missing from current font.\n",
      "  font.set_text(s, 0.0, flags=flags)\n",
      "/Users/yusuke.watanabe/Documents/workspace/.venv/lib/python3.7/site-packages/matplotlib/backends/backend_agg.py:214: RuntimeWarning: Glyph 65297 missing from current font.\n",
      "  font.set_text(s, 0.0, flags=flags)\n",
      "/Users/yusuke.watanabe/Documents/workspace/.venv/lib/python3.7/site-packages/matplotlib/backends/backend_agg.py:214: RuntimeWarning: Glyph 65306 missing from current font.\n",
      "  font.set_text(s, 0.0, flags=flags)\n",
      "/Users/yusuke.watanabe/Documents/workspace/.venv/lib/python3.7/site-packages/matplotlib/backends/backend_agg.py:214: RuntimeWarning: Glyph 37066 missing from current font.\n",
      "  font.set_text(s, 0.0, flags=flags)\n",
      "/Users/yusuke.watanabe/Documents/workspace/.venv/lib/python3.7/site-packages/matplotlib/backends/backend_agg.py:214: RuntimeWarning: Glyph 22806 missing from current font.\n",
      "  font.set_text(s, 0.0, flags=flags)\n",
      "/Users/yusuke.watanabe/Documents/workspace/.venv/lib/python3.7/site-packages/matplotlib/backends/backend_agg.py:214: RuntimeWarning: Glyph 12289 missing from current font.\n",
      "  font.set_text(s, 0.0, flags=flags)\n",
      "/Users/yusuke.watanabe/Documents/workspace/.venv/lib/python3.7/site-packages/matplotlib/backends/backend_agg.py:214: RuntimeWarning: Glyph 65298 missing from current font.\n",
      "  font.set_text(s, 0.0, flags=flags)\n",
      "/Users/yusuke.watanabe/Documents/workspace/.venv/lib/python3.7/site-packages/matplotlib/backends/backend_agg.py:214: RuntimeWarning: Glyph 37117 missing from current font.\n",
      "  font.set_text(s, 0.0, flags=flags)\n",
      "/Users/yusuke.watanabe/Documents/workspace/.venv/lib/python3.7/site-packages/matplotlib/backends/backend_agg.py:214: RuntimeWarning: Glyph 24515 missing from current font.\n",
      "  font.set_text(s, 0.0, flags=flags)\n",
      "/Users/yusuke.watanabe/Documents/workspace/.venv/lib/python3.7/site-packages/matplotlib/backends/backend_agg.py:214: RuntimeWarning: Glyph 65289 missing from current font.\n",
      "  font.set_text(s, 0.0, flags=flags)\n",
      "/Users/yusuke.watanabe/Documents/workspace/.venv/lib/python3.7/site-packages/matplotlib/backends/backend_agg.py:214: RuntimeWarning: Glyph 22770 missing from current font.\n",
      "  font.set_text(s, 0.0, flags=flags)\n",
      "/Users/yusuke.watanabe/Documents/workspace/.venv/lib/python3.7/site-packages/matplotlib/backends/backend_agg.py:214: RuntimeWarning: Glyph 12426 missing from current font.\n",
      "  font.set_text(s, 0.0, flags=flags)\n",
      "/Users/yusuke.watanabe/Documents/workspace/.venv/lib/python3.7/site-packages/matplotlib/backends/backend_agg.py:214: RuntimeWarning: Glyph 19978 missing from current font.\n",
      "  font.set_text(s, 0.0, flags=flags)\n",
      "/Users/yusuke.watanabe/Documents/workspace/.venv/lib/python3.7/site-packages/matplotlib/backends/backend_agg.py:214: RuntimeWarning: Glyph 12370 missing from current font.\n",
      "  font.set_text(s, 0.0, flags=flags)\n",
      "/Users/yusuke.watanabe/Documents/workspace/.venv/lib/python3.7/site-packages/matplotlib/backends/backend_agg.py:214: RuntimeWarning: Glyph 20870 missing from current font.\n",
      "  font.set_text(s, 0.0, flags=flags)\n",
      "/Users/yusuke.watanabe/Documents/workspace/.venv/lib/python3.7/site-packages/matplotlib/backends/backend_agg.py:214: RuntimeWarning: Glyph 26085 missing from current font.\n",
      "  font.set_text(s, 0.0, flags=flags)\n",
      "/Users/yusuke.watanabe/Documents/workspace/.venv/lib/python3.7/site-packages/matplotlib/backends/backend_agg.py:214: RuntimeWarning: Glyph 26469 missing from current font.\n",
      "  font.set_text(s, 0.0, flags=flags)\n",
      "/Users/yusuke.watanabe/Documents/workspace/.venv/lib/python3.7/site-packages/matplotlib/backends/backend_agg.py:214: RuntimeWarning: Glyph 23458 missing from current font.\n",
      "  font.set_text(s, 0.0, flags=flags)\n",
      "/Users/yusuke.watanabe/Documents/workspace/.venv/lib/python3.7/site-packages/matplotlib/backends/backend_agg.py:214: RuntimeWarning: Glyph 25968 missing from current font.\n",
      "  font.set_text(s, 0.0, flags=flags)\n",
      "/Users/yusuke.watanabe/Documents/workspace/.venv/lib/python3.7/site-packages/matplotlib/backends/backend_agg.py:214: RuntimeWarning: Glyph 20154 missing from current font.\n",
      "  font.set_text(s, 0.0, flags=flags)\n",
      "/Users/yusuke.watanabe/Documents/workspace/.venv/lib/python3.7/site-packages/matplotlib/backends/backend_agg.py:214: RuntimeWarning: Glyph 21336 missing from current font.\n",
      "  font.set_text(s, 0.0, flags=flags)\n",
      "/Users/yusuke.watanabe/Documents/workspace/.venv/lib/python3.7/site-packages/matplotlib/backends/backend_agg.py:214: RuntimeWarning: Glyph 20385 missing from current font.\n",
      "  font.set_text(s, 0.0, flags=flags)\n",
      "/Users/yusuke.watanabe/Documents/workspace/.venv/lib/python3.7/site-packages/matplotlib/backends/backend_agg.py:183: RuntimeWarning: Glyph 24215 missing from current font.\n",
      "  font.set_text(s, 0, flags=flags)\n",
      "/Users/yusuke.watanabe/Documents/workspace/.venv/lib/python3.7/site-packages/matplotlib/backends/backend_agg.py:183: RuntimeWarning: Glyph 33303 missing from current font.\n",
      "  font.set_text(s, 0, flags=flags)\n",
      "/Users/yusuke.watanabe/Documents/workspace/.venv/lib/python3.7/site-packages/matplotlib/backends/backend_agg.py:183: RuntimeWarning: Glyph 30058 missing from current font.\n",
      "  font.set_text(s, 0, flags=flags)\n",
      "/Users/yusuke.watanabe/Documents/workspace/.venv/lib/python3.7/site-packages/matplotlib/backends/backend_agg.py:183: RuntimeWarning: Glyph 21495 missing from current font.\n",
      "  font.set_text(s, 0, flags=flags)\n",
      "/Users/yusuke.watanabe/Documents/workspace/.venv/lib/python3.7/site-packages/matplotlib/backends/backend_agg.py:183: RuntimeWarning: Glyph 31435 missing from current font.\n",
      "  font.set_text(s, 0, flags=flags)\n",
      "/Users/yusuke.watanabe/Documents/workspace/.venv/lib/python3.7/site-packages/matplotlib/backends/backend_agg.py:183: RuntimeWarning: Glyph 22320 missing from current font.\n",
      "  font.set_text(s, 0, flags=flags)\n",
      "/Users/yusuke.watanabe/Documents/workspace/.venv/lib/python3.7/site-packages/matplotlib/backends/backend_agg.py:183: RuntimeWarning: Glyph 65288 missing from current font.\n",
      "  font.set_text(s, 0, flags=flags)\n",
      "/Users/yusuke.watanabe/Documents/workspace/.venv/lib/python3.7/site-packages/matplotlib/backends/backend_agg.py:183: RuntimeWarning: Glyph 65297 missing from current font.\n",
      "  font.set_text(s, 0, flags=flags)\n",
      "/Users/yusuke.watanabe/Documents/workspace/.venv/lib/python3.7/site-packages/matplotlib/backends/backend_agg.py:183: RuntimeWarning: Glyph 65306 missing from current font.\n",
      "  font.set_text(s, 0, flags=flags)\n",
      "/Users/yusuke.watanabe/Documents/workspace/.venv/lib/python3.7/site-packages/matplotlib/backends/backend_agg.py:183: RuntimeWarning: Glyph 37066 missing from current font.\n",
      "  font.set_text(s, 0, flags=flags)\n",
      "/Users/yusuke.watanabe/Documents/workspace/.venv/lib/python3.7/site-packages/matplotlib/backends/backend_agg.py:183: RuntimeWarning: Glyph 22806 missing from current font.\n",
      "  font.set_text(s, 0, flags=flags)\n",
      "/Users/yusuke.watanabe/Documents/workspace/.venv/lib/python3.7/site-packages/matplotlib/backends/backend_agg.py:183: RuntimeWarning: Glyph 12289 missing from current font.\n",
      "  font.set_text(s, 0, flags=flags)\n",
      "/Users/yusuke.watanabe/Documents/workspace/.venv/lib/python3.7/site-packages/matplotlib/backends/backend_agg.py:183: RuntimeWarning: Glyph 65298 missing from current font.\n",
      "  font.set_text(s, 0, flags=flags)\n",
      "/Users/yusuke.watanabe/Documents/workspace/.venv/lib/python3.7/site-packages/matplotlib/backends/backend_agg.py:183: RuntimeWarning: Glyph 37117 missing from current font.\n",
      "  font.set_text(s, 0, flags=flags)\n",
      "/Users/yusuke.watanabe/Documents/workspace/.venv/lib/python3.7/site-packages/matplotlib/backends/backend_agg.py:183: RuntimeWarning: Glyph 24515 missing from current font.\n",
      "  font.set_text(s, 0, flags=flags)\n",
      "/Users/yusuke.watanabe/Documents/workspace/.venv/lib/python3.7/site-packages/matplotlib/backends/backend_agg.py:183: RuntimeWarning: Glyph 65289 missing from current font.\n",
      "  font.set_text(s, 0, flags=flags)\n"
     ]
    },
    {
     "name": "stderr",
     "output_type": "stream",
     "text": [
      "/Users/yusuke.watanabe/Documents/workspace/.venv/lib/python3.7/site-packages/matplotlib/backends/backend_agg.py:183: RuntimeWarning: Glyph 22770 missing from current font.\n",
      "  font.set_text(s, 0, flags=flags)\n",
      "/Users/yusuke.watanabe/Documents/workspace/.venv/lib/python3.7/site-packages/matplotlib/backends/backend_agg.py:183: RuntimeWarning: Glyph 12426 missing from current font.\n",
      "  font.set_text(s, 0, flags=flags)\n",
      "/Users/yusuke.watanabe/Documents/workspace/.venv/lib/python3.7/site-packages/matplotlib/backends/backend_agg.py:183: RuntimeWarning: Glyph 19978 missing from current font.\n",
      "  font.set_text(s, 0, flags=flags)\n",
      "/Users/yusuke.watanabe/Documents/workspace/.venv/lib/python3.7/site-packages/matplotlib/backends/backend_agg.py:183: RuntimeWarning: Glyph 12370 missing from current font.\n",
      "  font.set_text(s, 0, flags=flags)\n",
      "/Users/yusuke.watanabe/Documents/workspace/.venv/lib/python3.7/site-packages/matplotlib/backends/backend_agg.py:183: RuntimeWarning: Glyph 20870 missing from current font.\n",
      "  font.set_text(s, 0, flags=flags)\n",
      "/Users/yusuke.watanabe/Documents/workspace/.venv/lib/python3.7/site-packages/matplotlib/backends/backend_agg.py:183: RuntimeWarning: Glyph 26085 missing from current font.\n",
      "  font.set_text(s, 0, flags=flags)\n",
      "/Users/yusuke.watanabe/Documents/workspace/.venv/lib/python3.7/site-packages/matplotlib/backends/backend_agg.py:183: RuntimeWarning: Glyph 26469 missing from current font.\n",
      "  font.set_text(s, 0, flags=flags)\n",
      "/Users/yusuke.watanabe/Documents/workspace/.venv/lib/python3.7/site-packages/matplotlib/backends/backend_agg.py:183: RuntimeWarning: Glyph 23458 missing from current font.\n",
      "  font.set_text(s, 0, flags=flags)\n",
      "/Users/yusuke.watanabe/Documents/workspace/.venv/lib/python3.7/site-packages/matplotlib/backends/backend_agg.py:183: RuntimeWarning: Glyph 25968 missing from current font.\n",
      "  font.set_text(s, 0, flags=flags)\n",
      "/Users/yusuke.watanabe/Documents/workspace/.venv/lib/python3.7/site-packages/matplotlib/backends/backend_agg.py:183: RuntimeWarning: Glyph 20154 missing from current font.\n",
      "  font.set_text(s, 0, flags=flags)\n",
      "/Users/yusuke.watanabe/Documents/workspace/.venv/lib/python3.7/site-packages/matplotlib/backends/backend_agg.py:183: RuntimeWarning: Glyph 21336 missing from current font.\n",
      "  font.set_text(s, 0, flags=flags)\n",
      "/Users/yusuke.watanabe/Documents/workspace/.venv/lib/python3.7/site-packages/matplotlib/backends/backend_agg.py:183: RuntimeWarning: Glyph 20385 missing from current font.\n",
      "  font.set_text(s, 0, flags=flags)\n"
     ]
    },
    {
     "data": {
      "image/png": "[encoded data removed]",
      "text/plain": [
       "<Figure size 900x900 with 30 Axes>"
      ]
     },
     "metadata": {
      "needs_background": "light"
     },
     "output_type": "display_data"
    }
   ],
   "source": [
    "sns.pairplot(humberger_df, height=2.5);"
   ]
  },
  {
   "cell_type": "code",
   "execution_count": null,
   "metadata": {},
   "outputs": [],
   "source": []
  }
 ],
 "metadata": {
  "kernelspec": {
   "display_name": "Python 3",
   "language": "python",
   "name": "python3"
  },
  "language_info": {
   "codemirror_mode": {
    "name": "ipython",
    "version": 3
   },
   "file_extension": ".py",
   "mimetype": "text/x-python",
   "name": "python",
   "nbconvert_exporter": "python",
   "pygments_lexer": "ipython3",
   "version": "3.7.3"
  }
 },
 "nbformat": 4,
 "nbformat_minor": 2
}
